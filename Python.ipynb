{
  "cells": [
    {
      "cell_type": "markdown",
      "metadata": {
        "id": "view-in-github",
        "colab_type": "text"
      },
      "source": [
        "<a href=\"https://colab.research.google.com/github/DDD86/4484_group/blob/main/Python.ipynb\" target=\"_parent\"><img src=\"https://colab.research.google.com/assets/colab-badge.svg\" alt=\"Open In Colab\"/></a>"
      ]
    },
    {
      "cell_type": "markdown",
      "id": "71969949-bff0-42ce-a840-835b6e164218",
      "metadata": {
        "id": "71969949-bff0-42ce-a840-835b6e164218"
      },
      "source": [
        "## Контрольная работа по блоку специализация\n",
        "### Аналитика"
      ]
    },
    {
      "cell_type": "code",
      "execution_count": 1,
      "id": "018d20de-4b21-4b80-a4ba-7bb9924ba1fa",
      "metadata": {
        "id": "018d20de-4b21-4b80-a4ba-7bb9924ba1fa"
      },
      "outputs": [],
      "source": [
        "import pandas as pd\n",
        "import matplotlib.pyplot as plt"
      ]
    },
    {
      "cell_type": "markdown",
      "id": "ab0321eb-3941-4f54-959a-31db3a32187d",
      "metadata": {
        "id": "ab0321eb-3941-4f54-959a-31db3a32187d"
      },
      "source": [
        "#### Из каких регионов больше всего заявок"
      ]
    },
    {
      "cell_type": "code",
      "execution_count": 3,
      "id": "679aab82-5d22-4994-9e6e-9c17b34600fa",
      "metadata": {
        "colab": {
          "base_uri": "https://localhost:8080/"
        },
        "id": "679aab82-5d22-4994-9e6e-9c17b34600fa",
        "outputId": "9ea16c67-1539-4972-cac5-99e712a715d1"
      },
      "outputs": [
        {
          "output_type": "stream",
          "name": "stdout",
          "text": [
            "               Region  Конверсия\n",
            "117    Krasnodar Krai      23849\n",
            "223    Stavropol Krai       1642\n",
            "198     Rostov Oblast       1160\n",
            "149            Moscow       1036\n",
            "58             Crimea        667\n",
            "..                ...        ...\n",
            "239             Tokyo          0\n",
            "131  Lodz Voivodeship          0\n",
            "26             Bangui          0\n",
            "73             Fujian          0\n",
            "126             Lazio          0\n",
            "\n",
            "[272 rows x 2 columns]\n"
          ]
        }
      ],
      "source": [
        "df = pd.read_excel('Премиум авто.xlsx', sheet_name='Маркетинговые данные')\n",
        "city_counts = df.groupby('Region')['Конверсия'].sum().reset_index()\n",
        "print(city_counts.sort_values('Конверсия', ascending = False))"
      ]
    },
    {
      "cell_type": "markdown",
      "id": "d7b759f6-1796-4065-aebb-e427857c170f",
      "metadata": {
        "id": "d7b759f6-1796-4065-aebb-e427857c170f"
      },
      "source": [
        "#### Какой средний процент отказов (Bounce)"
      ]
    },
    {
      "cell_type": "code",
      "execution_count": 4,
      "id": "5a19facd-6443-4667-a3d5-6b62a86d5c0a",
      "metadata": {
        "colab": {
          "base_uri": "https://localhost:8080/"
        },
        "id": "5a19facd-6443-4667-a3d5-6b62a86d5c0a",
        "outputId": "3e3d3681-e5cb-413b-8e2a-f053edaf10dd"
      },
      "outputs": [
        {
          "output_type": "stream",
          "name": "stdout",
          "text": [
            "0.23\n"
          ]
        }
      ],
      "source": [
        "df['Bounce'] = df['Bounce Rate'].apply(lambda x: 0 if x == '-' else x)\n",
        "mean_bounce_percent = df['Bounce'].mean() * 100\n",
        "print(round(mean_bounce_percent, 2))"
      ]
    },
    {
      "cell_type": "markdown",
      "id": "4b0144cc-c9dd-4589-b8ae-97a91e531451",
      "metadata": {
        "id": "4b0144cc-c9dd-4589-b8ae-97a91e531451"
      },
      "source": [
        "#### С каких устройств чаще заходят на сайты"
      ]
    },
    {
      "cell_type": "code",
      "execution_count": 5,
      "id": "c13bbf42-2ad0-4001-adcc-10df499f56b0",
      "metadata": {
        "colab": {
          "base_uri": "https://localhost:8080/"
        },
        "id": "c13bbf42-2ad0-4001-adcc-10df499f56b0",
        "outputId": "b71d4340-1ca7-4da3-a061-bf839dd5ca91"
      },
      "outputs": [
        {
          "output_type": "stream",
          "name": "stdout",
          "text": [
            "Device Category\n",
            "mobile     39465\n",
            "desktop    24630\n",
            "tablet      2067\n",
            "Name: count, dtype: int64\n"
          ]
        }
      ],
      "source": [
        "device_counts = df['Device Category'].value_counts()\n",
        "print(device_counts)"
      ]
    },
    {
      "cell_type": "markdown",
      "id": "7691281c-8981-46e1-896a-5bdf7c9858e7",
      "metadata": {
        "id": "7691281c-8981-46e1-896a-5bdf7c9858e7"
      },
      "source": [
        "#### Какие источники наиболее конвертируемые"
      ]
    },
    {
      "cell_type": "code",
      "execution_count": 6,
      "id": "03f5b552-3ebc-4989-a324-08ff158ef266",
      "metadata": {
        "colab": {
          "base_uri": "https://localhost:8080/"
        },
        "id": "03f5b552-3ebc-4989-a324-08ff158ef266",
        "outputId": "4ba25c2c-f42c-42a1-dbd5-b31f4b829626"
      },
      "outputs": [
        {
          "output_type": "stream",
          "name": "stdout",
          "text": [
            "                 Source  Конверсия\n",
            "40               google       9106\n",
            "83            yandex.ru       5668\n",
            "78               yandex       5035\n",
            "0              (direct)       4790\n",
            "6    BMW-keyauto-krd.ru       4151\n",
            "..                  ...        ...\n",
            "72    stavropol.drom.ru          0\n",
            "69      rnd.autoneva.ru          0\n",
            "66      msk.autoneva.ru          0\n",
            "33  constanceonline.top          0\n",
            "87      честно-отзыв.рф          0\n",
            "\n",
            "[88 rows x 2 columns]\n"
          ]
        }
      ],
      "source": [
        "source_conversion = df.groupby('Source')['Конверсия'].sum().reset_index()\n",
        "print(source_conversion.sort_values('Конверсия', ascending=False))"
      ]
    },
    {
      "cell_type": "markdown",
      "id": "0f6c1420-bb26-4f57-9875-1130f8b7c8b6",
      "metadata": {
        "id": "0f6c1420-bb26-4f57-9875-1130f8b7c8b6"
      },
      "source": [
        "#### Рассчитайте ROMI"
      ]
    },
    {
      "cell_type": "code",
      "execution_count": 7,
      "id": "370bac31-35c6-4111-b121-937bb8375a86",
      "metadata": {
        "colab": {
          "base_uri": "https://localhost:8080/"
        },
        "id": "370bac31-35c6-4111-b121-937bb8375a86",
        "outputId": "051fd823-401a-4c82-cce4-18c644e9e894"
      },
      "outputs": [
        {
          "output_type": "stream",
          "name": "stdout",
          "text": [
            "3.58\n"
          ]
        }
      ],
      "source": [
        "df_crm = pd.read_excel('Премиум авто.xlsx', sheet_name='Данные из CRM')\n",
        "df_directory = pd.read_excel('Премиум авто.xlsx', sheet_name='Справочник')\n",
        "df_directory['Маржа в рублях']\n",
        "ROMI = (df_crm['Продажа'].sum() * df_directory['Маржа в рублях'].mean()) / df['Goal Value'].sum()\n",
        "print(round(ROMI, 2))\n"
      ]
    },
    {
      "cell_type": "markdown",
      "id": "2cd1e71e-4d8e-4568-952e-cfd03c0568fe",
      "metadata": {
        "id": "2cd1e71e-4d8e-4568-952e-cfd03c0568fe"
      },
      "source": [
        "### Для того чтобы посчитать чистую прибыль, помимо данных из предоставленных таблиц, необходимо также иметь информацию о затратах на производство или закупку автомобилей, а также информацию о операционных расходах, таких как зарплаты сотрудников, аренда помещений, налоги"
      ]
    },
    {
      "cell_type": "code",
      "execution_count": 8,
      "id": "0370b190-c22b-4562-8082-f16172bf950d",
      "metadata": {
        "colab": {
          "base_uri": "https://localhost:8080/"
        },
        "id": "0370b190-c22b-4562-8082-f16172bf950d",
        "outputId": "83262d7f-51b1-4c1e-d520-19017ca7745f"
      },
      "outputs": [
        {
          "output_type": "stream",
          "name": "stdout",
          "text": [
            "Выручка в рублях по долларовым позициям: 25766063.10810811\n"
          ]
        }
      ],
      "source": [
        "dollar_positions = df_directory[df_directory['Валюта'] == '$'].copy()\n",
        "\n",
        "dollar_positions['Выручка в рублях'] = dollar_positions['Цена'] * dollar_positions['Курс валют']\n",
        "\n",
        "total_revenue_rub = dollar_positions['Выручка в рублях'].sum()\n",
        "\n",
        "print(\"Выручка в рублях по долларовым позициям:\", total_revenue_rub)"
      ]
    },
    {
      "cell_type": "code",
      "execution_count": null,
      "id": "5853e42c-5c74-4444-831e-fa9e0922d02d",
      "metadata": {
        "id": "5853e42c-5c74-4444-831e-fa9e0922d02d"
      },
      "outputs": [],
      "source": []
    }
  ],
  "metadata": {
    "kernelspec": {
      "display_name": "Python 3 (ipykernel)",
      "language": "python",
      "name": "python3"
    },
    "language_info": {
      "codemirror_mode": {
        "name": "ipython",
        "version": 3
      },
      "file_extension": ".py",
      "mimetype": "text/x-python",
      "name": "python",
      "nbconvert_exporter": "python",
      "pygments_lexer": "ipython3",
      "version": "3.11.4"
    },
    "colab": {
      "provenance": [],
      "include_colab_link": true
    }
  },
  "nbformat": 4,
  "nbformat_minor": 5
}
